{
 "metadata": {
  "language_info": {
   "codemirror_mode": {
    "name": "ipython",
    "version": 3
   },
   "file_extension": ".py",
   "mimetype": "text/x-python",
   "name": "python",
   "nbconvert_exporter": "python",
   "pygments_lexer": "ipython3",
   "version": "3.6.9"
  },
  "orig_nbformat": 4,
  "kernelspec": {
   "name": "python3",
   "display_name": "Python 3.7.3 64-bit"
  },
  "interpreter": {
   "hash": "31f2aee4e71d21fbe5cf8b01ff0e069b9275f58929596ceb00d14d90e3e16cd6"
  }
 },
 "nbformat": 4,
 "nbformat_minor": 2,
 "cells": [
  {
   "cell_type": "code",
   "execution_count": 1,
   "metadata": {},
   "outputs": [],
   "source": [
    "import pandas as pd"
   ]
  },
  {
   "cell_type": "code",
   "execution_count": 11,
   "metadata": {},
   "outputs": [],
   "source": [
    "df1 = pd.read_csv(\"./data/TEP_CaseStudy_Fault_1_Pos_80%.csv\")\n",
    "df1.set_index(df1.columns[0])\n",
    "df1 = df1.drop(columns=[df1.columns[0]])"
   ]
  },
  {
   "cell_type": "code",
   "execution_count": 12,
   "metadata": {},
   "outputs": [
    {
     "output_type": "execute_result",
     "data": {
      "text/plain": [
       "        faultNumber  simulationRun  sample  xmeas_1  xmeas_2  xmeas_3  \\\n",
       "0               0.0            1.0     1.0  0.25038   3674.0   4529.0   \n",
       "1               0.0            1.0     2.0  0.25109   3659.4   4556.6   \n",
       "2               0.0            1.0     3.0  0.25038   3660.3   4477.8   \n",
       "3               0.0            1.0     4.0  0.24977   3661.3   4512.1   \n",
       "4               0.0            1.0     5.0  0.29405   3679.0   4497.0   \n",
       "...             ...            ...     ...      ...      ...      ...   \n",
       "249995          0.0          500.0   496.0  0.29325   3640.1   4473.0   \n",
       "249996          0.0          500.0   497.0  0.29134   3625.7   4506.2   \n",
       "249997          0.0          500.0   498.0  0.29438   3600.2   4478.3   \n",
       "249998          0.0          500.0   499.0  0.25269   3683.5   4486.4   \n",
       "249999          0.0          500.0   500.0  0.25214   3648.2   4467.8   \n",
       "\n",
       "        xmeas_4  xmeas_5  xmeas_6  xmeas_7  ...   xmv_2   xmv_3   xmv_4  \\\n",
       "0        9.2320   26.889   42.402   2704.3  ...  53.744  24.657  62.544   \n",
       "1        9.4264   26.721   42.576   2705.0  ...  53.414  24.588  59.259   \n",
       "2        9.4426   26.875   42.070   2706.2  ...  54.357  24.666  61.275   \n",
       "3        9.4776   26.758   42.063   2707.2  ...  53.946  24.725  59.856   \n",
       "4        9.3381   26.889   42.650   2705.1  ...  53.658  28.797  60.717   \n",
       "...         ...      ...      ...      ...  ...     ...     ...     ...   \n",
       "249995   9.1949   26.867   42.379   2700.2  ...  53.429  29.249  60.773   \n",
       "249996   9.2109   26.889   42.291   2700.6  ...  53.830  28.975  61.517   \n",
       "249997   9.1957   26.820   42.448   2700.3  ...  54.163  28.676  61.656   \n",
       "249998   9.2832   27.188   42.757   2697.4  ...  53.453  24.889  61.564   \n",
       "249999   9.1344   26.886   42.534   2695.1  ...  53.676  24.943  61.254   \n",
       "\n",
       "         xmv_5   xmv_6   xmv_7   xmv_8   xmv_9  xmv_10  xmv_11  \n",
       "0       22.137  39.935  42.323  47.757  47.510  41.258  18.447  \n",
       "1       22.084  40.176  38.554  43.692  47.427  41.359  17.194  \n",
       "2       22.380  40.244  38.990  46.699  47.468  41.199  20.530  \n",
       "3       22.277  40.257  38.072  47.541  47.658  41.643  18.089  \n",
       "4       21.947  39.144  41.955  47.645  47.346  41.507  18.461  \n",
       "...        ...     ...     ...     ...     ...     ...     ...  \n",
       "249995  21.532  40.451  34.064  48.953  48.291  40.812  18.756  \n",
       "249996  21.750  42.762  42.645  51.055  48.589  40.933  19.360  \n",
       "249997  21.487  42.109  39.770  46.770  48.648  41.465  19.344  \n",
       "249998  21.392  39.334  42.274  43.623  48.797  39.835  18.512  \n",
       "249999  21.208  38.991  42.873  44.400  48.876  41.076  16.158  \n",
       "\n",
       "[250000 rows x 55 columns]"
      ],
      "text/html": "<div>\n<style scoped>\n    .dataframe tbody tr th:only-of-type {\n        vertical-align: middle;\n    }\n\n    .dataframe tbody tr th {\n        vertical-align: top;\n    }\n\n    .dataframe thead th {\n        text-align: right;\n    }\n</style>\n<table border=\"1\" class=\"dataframe\">\n  <thead>\n    <tr style=\"text-align: right;\">\n      <th></th>\n      <th>faultNumber</th>\n      <th>simulationRun</th>\n      <th>sample</th>\n      <th>xmeas_1</th>\n      <th>xmeas_2</th>\n      <th>xmeas_3</th>\n      <th>xmeas_4</th>\n      <th>xmeas_5</th>\n      <th>xmeas_6</th>\n      <th>xmeas_7</th>\n      <th>...</th>\n      <th>xmv_2</th>\n      <th>xmv_3</th>\n      <th>xmv_4</th>\n      <th>xmv_5</th>\n      <th>xmv_6</th>\n      <th>xmv_7</th>\n      <th>xmv_8</th>\n      <th>xmv_9</th>\n      <th>xmv_10</th>\n      <th>xmv_11</th>\n    </tr>\n  </thead>\n  <tbody>\n    <tr>\n      <th>0</th>\n      <td>0.0</td>\n      <td>1.0</td>\n      <td>1.0</td>\n      <td>0.25038</td>\n      <td>3674.0</td>\n      <td>4529.0</td>\n      <td>9.2320</td>\n      <td>26.889</td>\n      <td>42.402</td>\n      <td>2704.3</td>\n      <td>...</td>\n      <td>53.744</td>\n      <td>24.657</td>\n      <td>62.544</td>\n      <td>22.137</td>\n      <td>39.935</td>\n      <td>42.323</td>\n      <td>47.757</td>\n      <td>47.510</td>\n      <td>41.258</td>\n      <td>18.447</td>\n    </tr>\n    <tr>\n      <th>1</th>\n      <td>0.0</td>\n      <td>1.0</td>\n      <td>2.0</td>\n      <td>0.25109</td>\n      <td>3659.4</td>\n      <td>4556.6</td>\n      <td>9.4264</td>\n      <td>26.721</td>\n      <td>42.576</td>\n      <td>2705.0</td>\n      <td>...</td>\n      <td>53.414</td>\n      <td>24.588</td>\n      <td>59.259</td>\n      <td>22.084</td>\n      <td>40.176</td>\n      <td>38.554</td>\n      <td>43.692</td>\n      <td>47.427</td>\n      <td>41.359</td>\n      <td>17.194</td>\n    </tr>\n    <tr>\n      <th>2</th>\n      <td>0.0</td>\n      <td>1.0</td>\n      <td>3.0</td>\n      <td>0.25038</td>\n      <td>3660.3</td>\n      <td>4477.8</td>\n      <td>9.4426</td>\n      <td>26.875</td>\n      <td>42.070</td>\n      <td>2706.2</td>\n      <td>...</td>\n      <td>54.357</td>\n      <td>24.666</td>\n      <td>61.275</td>\n      <td>22.380</td>\n      <td>40.244</td>\n      <td>38.990</td>\n      <td>46.699</td>\n      <td>47.468</td>\n      <td>41.199</td>\n      <td>20.530</td>\n    </tr>\n    <tr>\n      <th>3</th>\n      <td>0.0</td>\n      <td>1.0</td>\n      <td>4.0</td>\n      <td>0.24977</td>\n      <td>3661.3</td>\n      <td>4512.1</td>\n      <td>9.4776</td>\n      <td>26.758</td>\n      <td>42.063</td>\n      <td>2707.2</td>\n      <td>...</td>\n      <td>53.946</td>\n      <td>24.725</td>\n      <td>59.856</td>\n      <td>22.277</td>\n      <td>40.257</td>\n      <td>38.072</td>\n      <td>47.541</td>\n      <td>47.658</td>\n      <td>41.643</td>\n      <td>18.089</td>\n    </tr>\n    <tr>\n      <th>4</th>\n      <td>0.0</td>\n      <td>1.0</td>\n      <td>5.0</td>\n      <td>0.29405</td>\n      <td>3679.0</td>\n      <td>4497.0</td>\n      <td>9.3381</td>\n      <td>26.889</td>\n      <td>42.650</td>\n      <td>2705.1</td>\n      <td>...</td>\n      <td>53.658</td>\n      <td>28.797</td>\n      <td>60.717</td>\n      <td>21.947</td>\n      <td>39.144</td>\n      <td>41.955</td>\n      <td>47.645</td>\n      <td>47.346</td>\n      <td>41.507</td>\n      <td>18.461</td>\n    </tr>\n    <tr>\n      <th>...</th>\n      <td>...</td>\n      <td>...</td>\n      <td>...</td>\n      <td>...</td>\n      <td>...</td>\n      <td>...</td>\n      <td>...</td>\n      <td>...</td>\n      <td>...</td>\n      <td>...</td>\n      <td>...</td>\n      <td>...</td>\n      <td>...</td>\n      <td>...</td>\n      <td>...</td>\n      <td>...</td>\n      <td>...</td>\n      <td>...</td>\n      <td>...</td>\n      <td>...</td>\n      <td>...</td>\n    </tr>\n    <tr>\n      <th>249995</th>\n      <td>0.0</td>\n      <td>500.0</td>\n      <td>496.0</td>\n      <td>0.29325</td>\n      <td>3640.1</td>\n      <td>4473.0</td>\n      <td>9.1949</td>\n      <td>26.867</td>\n      <td>42.379</td>\n      <td>2700.2</td>\n      <td>...</td>\n      <td>53.429</td>\n      <td>29.249</td>\n      <td>60.773</td>\n      <td>21.532</td>\n      <td>40.451</td>\n      <td>34.064</td>\n      <td>48.953</td>\n      <td>48.291</td>\n      <td>40.812</td>\n      <td>18.756</td>\n    </tr>\n    <tr>\n      <th>249996</th>\n      <td>0.0</td>\n      <td>500.0</td>\n      <td>497.0</td>\n      <td>0.29134</td>\n      <td>3625.7</td>\n      <td>4506.2</td>\n      <td>9.2109</td>\n      <td>26.889</td>\n      <td>42.291</td>\n      <td>2700.6</td>\n      <td>...</td>\n      <td>53.830</td>\n      <td>28.975</td>\n      <td>61.517</td>\n      <td>21.750</td>\n      <td>42.762</td>\n      <td>42.645</td>\n      <td>51.055</td>\n      <td>48.589</td>\n      <td>40.933</td>\n      <td>19.360</td>\n    </tr>\n    <tr>\n      <th>249997</th>\n      <td>0.0</td>\n      <td>500.0</td>\n      <td>498.0</td>\n      <td>0.29438</td>\n      <td>3600.2</td>\n      <td>4478.3</td>\n      <td>9.1957</td>\n      <td>26.820</td>\n      <td>42.448</td>\n      <td>2700.3</td>\n      <td>...</td>\n      <td>54.163</td>\n      <td>28.676</td>\n      <td>61.656</td>\n      <td>21.487</td>\n      <td>42.109</td>\n      <td>39.770</td>\n      <td>46.770</td>\n      <td>48.648</td>\n      <td>41.465</td>\n      <td>19.344</td>\n    </tr>\n    <tr>\n      <th>249998</th>\n      <td>0.0</td>\n      <td>500.0</td>\n      <td>499.0</td>\n      <td>0.25269</td>\n      <td>3683.5</td>\n      <td>4486.4</td>\n      <td>9.2832</td>\n      <td>27.188</td>\n      <td>42.757</td>\n      <td>2697.4</td>\n      <td>...</td>\n      <td>53.453</td>\n      <td>24.889</td>\n      <td>61.564</td>\n      <td>21.392</td>\n      <td>39.334</td>\n      <td>42.274</td>\n      <td>43.623</td>\n      <td>48.797</td>\n      <td>39.835</td>\n      <td>18.512</td>\n    </tr>\n    <tr>\n      <th>249999</th>\n      <td>0.0</td>\n      <td>500.0</td>\n      <td>500.0</td>\n      <td>0.25214</td>\n      <td>3648.2</td>\n      <td>4467.8</td>\n      <td>9.1344</td>\n      <td>26.886</td>\n      <td>42.534</td>\n      <td>2695.1</td>\n      <td>...</td>\n      <td>53.676</td>\n      <td>24.943</td>\n      <td>61.254</td>\n      <td>21.208</td>\n      <td>38.991</td>\n      <td>42.873</td>\n      <td>44.400</td>\n      <td>48.876</td>\n      <td>41.076</td>\n      <td>16.158</td>\n    </tr>\n  </tbody>\n</table>\n<p>250000 rows × 55 columns</p>\n</div>"
     },
     "metadata": {},
     "execution_count": 12
    }
   ],
   "source": [
    "df1"
   ]
  },
  {
   "cell_type": "code",
   "execution_count": 13,
   "metadata": {},
   "outputs": [],
   "source": [
    "df2 = pd.read_csv(\"./data/TEP_CaseStudy_Fault_\" + str(1) + \"_Pos_\" + \n",
    "                         str(80)+ \"%_LSTM-AE_Output.csv\")\n",
    "df2.set_index(df2.columns[0])\n",
    "df2 = df2.drop(columns=[df2.columns[0]])"
   ]
  },
  {
   "cell_type": "code",
   "execution_count": 14,
   "metadata": {},
   "outputs": [],
   "source": [
    "df1 = df1.join(df2[\"Loss_mae\"])\n",
    "df1 = df1.join(df2[\"Threshold\"])"
   ]
  },
  {
   "cell_type": "code",
   "execution_count": 15,
   "metadata": {},
   "outputs": [
    {
     "output_type": "execute_result",
     "data": {
      "text/plain": [
       "        faultNumber  simulationRun  sample  xmeas_1  xmeas_2  xmeas_3  \\\n",
       "0               0.0            1.0     1.0  0.25038   3674.0   4529.0   \n",
       "1               0.0            1.0     2.0  0.25109   3659.4   4556.6   \n",
       "2               0.0            1.0     3.0  0.25038   3660.3   4477.8   \n",
       "3               0.0            1.0     4.0  0.24977   3661.3   4512.1   \n",
       "4               0.0            1.0     5.0  0.29405   3679.0   4497.0   \n",
       "...             ...            ...     ...      ...      ...      ...   \n",
       "249995          0.0          500.0   496.0  0.29325   3640.1   4473.0   \n",
       "249996          0.0          500.0   497.0  0.29134   3625.7   4506.2   \n",
       "249997          0.0          500.0   498.0  0.29438   3600.2   4478.3   \n",
       "249998          0.0          500.0   499.0  0.25269   3683.5   4486.4   \n",
       "249999          0.0          500.0   500.0  0.25214   3648.2   4467.8   \n",
       "\n",
       "        xmeas_4  xmeas_5  xmeas_6  xmeas_7  ...   xmv_4   xmv_5   xmv_6  \\\n",
       "0        9.2320   26.889   42.402   2704.3  ...  62.544  22.137  39.935   \n",
       "1        9.4264   26.721   42.576   2705.0  ...  59.259  22.084  40.176   \n",
       "2        9.4426   26.875   42.070   2706.2  ...  61.275  22.380  40.244   \n",
       "3        9.4776   26.758   42.063   2707.2  ...  59.856  22.277  40.257   \n",
       "4        9.3381   26.889   42.650   2705.1  ...  60.717  21.947  39.144   \n",
       "...         ...      ...      ...      ...  ...     ...     ...     ...   \n",
       "249995   9.1949   26.867   42.379   2700.2  ...  60.773  21.532  40.451   \n",
       "249996   9.2109   26.889   42.291   2700.6  ...  61.517  21.750  42.762   \n",
       "249997   9.1957   26.820   42.448   2700.3  ...  61.656  21.487  42.109   \n",
       "249998   9.2832   27.188   42.757   2697.4  ...  61.564  21.392  39.334   \n",
       "249999   9.1344   26.886   42.534   2695.1  ...  61.254  21.208  38.991   \n",
       "\n",
       "         xmv_7   xmv_8   xmv_9  xmv_10  xmv_11  Loss_mae  Threshold  \n",
       "0       42.323  47.757  47.510  41.258  18.447       NaN        NaN  \n",
       "1       38.554  43.692  47.427  41.359  17.194       NaN        NaN  \n",
       "2       38.990  46.699  47.468  41.199  20.530       NaN        NaN  \n",
       "3       38.072  47.541  47.658  41.643  18.089       NaN        NaN  \n",
       "4       41.955  47.645  47.346  41.507  18.461       NaN        NaN  \n",
       "...        ...     ...     ...     ...     ...       ...        ...  \n",
       "249995  34.064  48.953  48.291  40.812  18.756  0.078257   0.174940  \n",
       "249996  42.645  51.055  48.589  40.933  19.360  0.076785   0.174940  \n",
       "249997  39.770  46.770  48.648  41.465  19.344  0.061994   0.174939  \n",
       "249998  42.274  43.623  48.797  39.835  18.512  0.078618   0.174939  \n",
       "249999  42.873  44.400  48.876  41.076  16.158  0.076033   0.174939  \n",
       "\n",
       "[250000 rows x 57 columns]"
      ],
      "text/html": "<div>\n<style scoped>\n    .dataframe tbody tr th:only-of-type {\n        vertical-align: middle;\n    }\n\n    .dataframe tbody tr th {\n        vertical-align: top;\n    }\n\n    .dataframe thead th {\n        text-align: right;\n    }\n</style>\n<table border=\"1\" class=\"dataframe\">\n  <thead>\n    <tr style=\"text-align: right;\">\n      <th></th>\n      <th>faultNumber</th>\n      <th>simulationRun</th>\n      <th>sample</th>\n      <th>xmeas_1</th>\n      <th>xmeas_2</th>\n      <th>xmeas_3</th>\n      <th>xmeas_4</th>\n      <th>xmeas_5</th>\n      <th>xmeas_6</th>\n      <th>xmeas_7</th>\n      <th>...</th>\n      <th>xmv_4</th>\n      <th>xmv_5</th>\n      <th>xmv_6</th>\n      <th>xmv_7</th>\n      <th>xmv_8</th>\n      <th>xmv_9</th>\n      <th>xmv_10</th>\n      <th>xmv_11</th>\n      <th>Loss_mae</th>\n      <th>Threshold</th>\n    </tr>\n  </thead>\n  <tbody>\n    <tr>\n      <th>0</th>\n      <td>0.0</td>\n      <td>1.0</td>\n      <td>1.0</td>\n      <td>0.25038</td>\n      <td>3674.0</td>\n      <td>4529.0</td>\n      <td>9.2320</td>\n      <td>26.889</td>\n      <td>42.402</td>\n      <td>2704.3</td>\n      <td>...</td>\n      <td>62.544</td>\n      <td>22.137</td>\n      <td>39.935</td>\n      <td>42.323</td>\n      <td>47.757</td>\n      <td>47.510</td>\n      <td>41.258</td>\n      <td>18.447</td>\n      <td>NaN</td>\n      <td>NaN</td>\n    </tr>\n    <tr>\n      <th>1</th>\n      <td>0.0</td>\n      <td>1.0</td>\n      <td>2.0</td>\n      <td>0.25109</td>\n      <td>3659.4</td>\n      <td>4556.6</td>\n      <td>9.4264</td>\n      <td>26.721</td>\n      <td>42.576</td>\n      <td>2705.0</td>\n      <td>...</td>\n      <td>59.259</td>\n      <td>22.084</td>\n      <td>40.176</td>\n      <td>38.554</td>\n      <td>43.692</td>\n      <td>47.427</td>\n      <td>41.359</td>\n      <td>17.194</td>\n      <td>NaN</td>\n      <td>NaN</td>\n    </tr>\n    <tr>\n      <th>2</th>\n      <td>0.0</td>\n      <td>1.0</td>\n      <td>3.0</td>\n      <td>0.25038</td>\n      <td>3660.3</td>\n      <td>4477.8</td>\n      <td>9.4426</td>\n      <td>26.875</td>\n      <td>42.070</td>\n      <td>2706.2</td>\n      <td>...</td>\n      <td>61.275</td>\n      <td>22.380</td>\n      <td>40.244</td>\n      <td>38.990</td>\n      <td>46.699</td>\n      <td>47.468</td>\n      <td>41.199</td>\n      <td>20.530</td>\n      <td>NaN</td>\n      <td>NaN</td>\n    </tr>\n    <tr>\n      <th>3</th>\n      <td>0.0</td>\n      <td>1.0</td>\n      <td>4.0</td>\n      <td>0.24977</td>\n      <td>3661.3</td>\n      <td>4512.1</td>\n      <td>9.4776</td>\n      <td>26.758</td>\n      <td>42.063</td>\n      <td>2707.2</td>\n      <td>...</td>\n      <td>59.856</td>\n      <td>22.277</td>\n      <td>40.257</td>\n      <td>38.072</td>\n      <td>47.541</td>\n      <td>47.658</td>\n      <td>41.643</td>\n      <td>18.089</td>\n      <td>NaN</td>\n      <td>NaN</td>\n    </tr>\n    <tr>\n      <th>4</th>\n      <td>0.0</td>\n      <td>1.0</td>\n      <td>5.0</td>\n      <td>0.29405</td>\n      <td>3679.0</td>\n      <td>4497.0</td>\n      <td>9.3381</td>\n      <td>26.889</td>\n      <td>42.650</td>\n      <td>2705.1</td>\n      <td>...</td>\n      <td>60.717</td>\n      <td>21.947</td>\n      <td>39.144</td>\n      <td>41.955</td>\n      <td>47.645</td>\n      <td>47.346</td>\n      <td>41.507</td>\n      <td>18.461</td>\n      <td>NaN</td>\n      <td>NaN</td>\n    </tr>\n    <tr>\n      <th>...</th>\n      <td>...</td>\n      <td>...</td>\n      <td>...</td>\n      <td>...</td>\n      <td>...</td>\n      <td>...</td>\n      <td>...</td>\n      <td>...</td>\n      <td>...</td>\n      <td>...</td>\n      <td>...</td>\n      <td>...</td>\n      <td>...</td>\n      <td>...</td>\n      <td>...</td>\n      <td>...</td>\n      <td>...</td>\n      <td>...</td>\n      <td>...</td>\n      <td>...</td>\n      <td>...</td>\n    </tr>\n    <tr>\n      <th>249995</th>\n      <td>0.0</td>\n      <td>500.0</td>\n      <td>496.0</td>\n      <td>0.29325</td>\n      <td>3640.1</td>\n      <td>4473.0</td>\n      <td>9.1949</td>\n      <td>26.867</td>\n      <td>42.379</td>\n      <td>2700.2</td>\n      <td>...</td>\n      <td>60.773</td>\n      <td>21.532</td>\n      <td>40.451</td>\n      <td>34.064</td>\n      <td>48.953</td>\n      <td>48.291</td>\n      <td>40.812</td>\n      <td>18.756</td>\n      <td>0.078257</td>\n      <td>0.174940</td>\n    </tr>\n    <tr>\n      <th>249996</th>\n      <td>0.0</td>\n      <td>500.0</td>\n      <td>497.0</td>\n      <td>0.29134</td>\n      <td>3625.7</td>\n      <td>4506.2</td>\n      <td>9.2109</td>\n      <td>26.889</td>\n      <td>42.291</td>\n      <td>2700.6</td>\n      <td>...</td>\n      <td>61.517</td>\n      <td>21.750</td>\n      <td>42.762</td>\n      <td>42.645</td>\n      <td>51.055</td>\n      <td>48.589</td>\n      <td>40.933</td>\n      <td>19.360</td>\n      <td>0.076785</td>\n      <td>0.174940</td>\n    </tr>\n    <tr>\n      <th>249997</th>\n      <td>0.0</td>\n      <td>500.0</td>\n      <td>498.0</td>\n      <td>0.29438</td>\n      <td>3600.2</td>\n      <td>4478.3</td>\n      <td>9.1957</td>\n      <td>26.820</td>\n      <td>42.448</td>\n      <td>2700.3</td>\n      <td>...</td>\n      <td>61.656</td>\n      <td>21.487</td>\n      <td>42.109</td>\n      <td>39.770</td>\n      <td>46.770</td>\n      <td>48.648</td>\n      <td>41.465</td>\n      <td>19.344</td>\n      <td>0.061994</td>\n      <td>0.174939</td>\n    </tr>\n    <tr>\n      <th>249998</th>\n      <td>0.0</td>\n      <td>500.0</td>\n      <td>499.0</td>\n      <td>0.25269</td>\n      <td>3683.5</td>\n      <td>4486.4</td>\n      <td>9.2832</td>\n      <td>27.188</td>\n      <td>42.757</td>\n      <td>2697.4</td>\n      <td>...</td>\n      <td>61.564</td>\n      <td>21.392</td>\n      <td>39.334</td>\n      <td>42.274</td>\n      <td>43.623</td>\n      <td>48.797</td>\n      <td>39.835</td>\n      <td>18.512</td>\n      <td>0.078618</td>\n      <td>0.174939</td>\n    </tr>\n    <tr>\n      <th>249999</th>\n      <td>0.0</td>\n      <td>500.0</td>\n      <td>500.0</td>\n      <td>0.25214</td>\n      <td>3648.2</td>\n      <td>4467.8</td>\n      <td>9.1344</td>\n      <td>26.886</td>\n      <td>42.534</td>\n      <td>2695.1</td>\n      <td>...</td>\n      <td>61.254</td>\n      <td>21.208</td>\n      <td>38.991</td>\n      <td>42.873</td>\n      <td>44.400</td>\n      <td>48.876</td>\n      <td>41.076</td>\n      <td>16.158</td>\n      <td>0.076033</td>\n      <td>0.174939</td>\n    </tr>\n  </tbody>\n</table>\n<p>250000 rows × 57 columns</p>\n</div>"
     },
     "metadata": {},
     "execution_count": 15
    }
   ],
   "source": [
    "df1"
   ]
  },
  {
   "cell_type": "code",
   "execution_count": 16,
   "metadata": {},
   "outputs": [],
   "source": [
    "import numpy as np\n",
    "\n",
    "def _label_point(row):\n",
    "    if np.isnan(row.Loss_mae) or np.isnan(row.Threshold):\n",
    "        return \"TR\"\n",
    "    if (row[\"Loss_mae\"]>=row[\"Threshold\"]) and (row[\"faultNumber\"]!=0):\n",
    "        return \"TP\"\n",
    "    if (row[\"Loss_mae\"]<row[\"Threshold\"]) and (row[\"faultNumber\"]!=0):\n",
    "        return \"FN\"\n",
    "    if (row[\"Loss_mae\"]>=row[\"Threshold\"]) and (row[\"faultNumber\"]==0):\n",
    "        return \"FP\"\n",
    "    if (row[\"Loss_mae\"]<row[\"Threshold\"]) and (row[\"faultNumber\"]==0):\n",
    "        return \"TN\""
   ]
  },
  {
   "cell_type": "code",
   "execution_count": 17,
   "metadata": {},
   "outputs": [],
   "source": [
    "df1[\"pointType\"] = df1.apply (lambda row: _label_point(row), axis=1)"
   ]
  },
  {
   "cell_type": "code",
   "execution_count": 18,
   "metadata": {},
   "outputs": [
    {
     "output_type": "execute_result",
     "data": {
      "text/plain": [
       "        faultNumber  simulationRun  sample  xmeas_1  xmeas_2  xmeas_3  \\\n",
       "0               0.0            1.0     1.0  0.25038   3674.0   4529.0   \n",
       "1               0.0            1.0     2.0  0.25109   3659.4   4556.6   \n",
       "2               0.0            1.0     3.0  0.25038   3660.3   4477.8   \n",
       "3               0.0            1.0     4.0  0.24977   3661.3   4512.1   \n",
       "4               0.0            1.0     5.0  0.29405   3679.0   4497.0   \n",
       "...             ...            ...     ...      ...      ...      ...   \n",
       "249995          0.0          500.0   496.0  0.29325   3640.1   4473.0   \n",
       "249996          0.0          500.0   497.0  0.29134   3625.7   4506.2   \n",
       "249997          0.0          500.0   498.0  0.29438   3600.2   4478.3   \n",
       "249998          0.0          500.0   499.0  0.25269   3683.5   4486.4   \n",
       "249999          0.0          500.0   500.0  0.25214   3648.2   4467.8   \n",
       "\n",
       "        xmeas_4  xmeas_5  xmeas_6  xmeas_7  ...   xmv_5   xmv_6   xmv_7  \\\n",
       "0        9.2320   26.889   42.402   2704.3  ...  22.137  39.935  42.323   \n",
       "1        9.4264   26.721   42.576   2705.0  ...  22.084  40.176  38.554   \n",
       "2        9.4426   26.875   42.070   2706.2  ...  22.380  40.244  38.990   \n",
       "3        9.4776   26.758   42.063   2707.2  ...  22.277  40.257  38.072   \n",
       "4        9.3381   26.889   42.650   2705.1  ...  21.947  39.144  41.955   \n",
       "...         ...      ...      ...      ...  ...     ...     ...     ...   \n",
       "249995   9.1949   26.867   42.379   2700.2  ...  21.532  40.451  34.064   \n",
       "249996   9.2109   26.889   42.291   2700.6  ...  21.750  42.762  42.645   \n",
       "249997   9.1957   26.820   42.448   2700.3  ...  21.487  42.109  39.770   \n",
       "249998   9.2832   27.188   42.757   2697.4  ...  21.392  39.334  42.274   \n",
       "249999   9.1344   26.886   42.534   2695.1  ...  21.208  38.991  42.873   \n",
       "\n",
       "         xmv_8   xmv_9  xmv_10  xmv_11  Loss_mae  Threshold  pointType  \n",
       "0       47.757  47.510  41.258  18.447       NaN        NaN         TR  \n",
       "1       43.692  47.427  41.359  17.194       NaN        NaN         TR  \n",
       "2       46.699  47.468  41.199  20.530       NaN        NaN         TR  \n",
       "3       47.541  47.658  41.643  18.089       NaN        NaN         TR  \n",
       "4       47.645  47.346  41.507  18.461       NaN        NaN         TR  \n",
       "...        ...     ...     ...     ...       ...        ...        ...  \n",
       "249995  48.953  48.291  40.812  18.756  0.078257   0.174940         TN  \n",
       "249996  51.055  48.589  40.933  19.360  0.076785   0.174940         TN  \n",
       "249997  46.770  48.648  41.465  19.344  0.061994   0.174939         TN  \n",
       "249998  43.623  48.797  39.835  18.512  0.078618   0.174939         TN  \n",
       "249999  44.400  48.876  41.076  16.158  0.076033   0.174939         TN  \n",
       "\n",
       "[250000 rows x 58 columns]"
      ],
      "text/html": "<div>\n<style scoped>\n    .dataframe tbody tr th:only-of-type {\n        vertical-align: middle;\n    }\n\n    .dataframe tbody tr th {\n        vertical-align: top;\n    }\n\n    .dataframe thead th {\n        text-align: right;\n    }\n</style>\n<table border=\"1\" class=\"dataframe\">\n  <thead>\n    <tr style=\"text-align: right;\">\n      <th></th>\n      <th>faultNumber</th>\n      <th>simulationRun</th>\n      <th>sample</th>\n      <th>xmeas_1</th>\n      <th>xmeas_2</th>\n      <th>xmeas_3</th>\n      <th>xmeas_4</th>\n      <th>xmeas_5</th>\n      <th>xmeas_6</th>\n      <th>xmeas_7</th>\n      <th>...</th>\n      <th>xmv_5</th>\n      <th>xmv_6</th>\n      <th>xmv_7</th>\n      <th>xmv_8</th>\n      <th>xmv_9</th>\n      <th>xmv_10</th>\n      <th>xmv_11</th>\n      <th>Loss_mae</th>\n      <th>Threshold</th>\n      <th>pointType</th>\n    </tr>\n  </thead>\n  <tbody>\n    <tr>\n      <th>0</th>\n      <td>0.0</td>\n      <td>1.0</td>\n      <td>1.0</td>\n      <td>0.25038</td>\n      <td>3674.0</td>\n      <td>4529.0</td>\n      <td>9.2320</td>\n      <td>26.889</td>\n      <td>42.402</td>\n      <td>2704.3</td>\n      <td>...</td>\n      <td>22.137</td>\n      <td>39.935</td>\n      <td>42.323</td>\n      <td>47.757</td>\n      <td>47.510</td>\n      <td>41.258</td>\n      <td>18.447</td>\n      <td>NaN</td>\n      <td>NaN</td>\n      <td>TR</td>\n    </tr>\n    <tr>\n      <th>1</th>\n      <td>0.0</td>\n      <td>1.0</td>\n      <td>2.0</td>\n      <td>0.25109</td>\n      <td>3659.4</td>\n      <td>4556.6</td>\n      <td>9.4264</td>\n      <td>26.721</td>\n      <td>42.576</td>\n      <td>2705.0</td>\n      <td>...</td>\n      <td>22.084</td>\n      <td>40.176</td>\n      <td>38.554</td>\n      <td>43.692</td>\n      <td>47.427</td>\n      <td>41.359</td>\n      <td>17.194</td>\n      <td>NaN</td>\n      <td>NaN</td>\n      <td>TR</td>\n    </tr>\n    <tr>\n      <th>2</th>\n      <td>0.0</td>\n      <td>1.0</td>\n      <td>3.0</td>\n      <td>0.25038</td>\n      <td>3660.3</td>\n      <td>4477.8</td>\n      <td>9.4426</td>\n      <td>26.875</td>\n      <td>42.070</td>\n      <td>2706.2</td>\n      <td>...</td>\n      <td>22.380</td>\n      <td>40.244</td>\n      <td>38.990</td>\n      <td>46.699</td>\n      <td>47.468</td>\n      <td>41.199</td>\n      <td>20.530</td>\n      <td>NaN</td>\n      <td>NaN</td>\n      <td>TR</td>\n    </tr>\n    <tr>\n      <th>3</th>\n      <td>0.0</td>\n      <td>1.0</td>\n      <td>4.0</td>\n      <td>0.24977</td>\n      <td>3661.3</td>\n      <td>4512.1</td>\n      <td>9.4776</td>\n      <td>26.758</td>\n      <td>42.063</td>\n      <td>2707.2</td>\n      <td>...</td>\n      <td>22.277</td>\n      <td>40.257</td>\n      <td>38.072</td>\n      <td>47.541</td>\n      <td>47.658</td>\n      <td>41.643</td>\n      <td>18.089</td>\n      <td>NaN</td>\n      <td>NaN</td>\n      <td>TR</td>\n    </tr>\n    <tr>\n      <th>4</th>\n      <td>0.0</td>\n      <td>1.0</td>\n      <td>5.0</td>\n      <td>0.29405</td>\n      <td>3679.0</td>\n      <td>4497.0</td>\n      <td>9.3381</td>\n      <td>26.889</td>\n      <td>42.650</td>\n      <td>2705.1</td>\n      <td>...</td>\n      <td>21.947</td>\n      <td>39.144</td>\n      <td>41.955</td>\n      <td>47.645</td>\n      <td>47.346</td>\n      <td>41.507</td>\n      <td>18.461</td>\n      <td>NaN</td>\n      <td>NaN</td>\n      <td>TR</td>\n    </tr>\n    <tr>\n      <th>...</th>\n      <td>...</td>\n      <td>...</td>\n      <td>...</td>\n      <td>...</td>\n      <td>...</td>\n      <td>...</td>\n      <td>...</td>\n      <td>...</td>\n      <td>...</td>\n      <td>...</td>\n      <td>...</td>\n      <td>...</td>\n      <td>...</td>\n      <td>...</td>\n      <td>...</td>\n      <td>...</td>\n      <td>...</td>\n      <td>...</td>\n      <td>...</td>\n      <td>...</td>\n      <td>...</td>\n    </tr>\n    <tr>\n      <th>249995</th>\n      <td>0.0</td>\n      <td>500.0</td>\n      <td>496.0</td>\n      <td>0.29325</td>\n      <td>3640.1</td>\n      <td>4473.0</td>\n      <td>9.1949</td>\n      <td>26.867</td>\n      <td>42.379</td>\n      <td>2700.2</td>\n      <td>...</td>\n      <td>21.532</td>\n      <td>40.451</td>\n      <td>34.064</td>\n      <td>48.953</td>\n      <td>48.291</td>\n      <td>40.812</td>\n      <td>18.756</td>\n      <td>0.078257</td>\n      <td>0.174940</td>\n      <td>TN</td>\n    </tr>\n    <tr>\n      <th>249996</th>\n      <td>0.0</td>\n      <td>500.0</td>\n      <td>497.0</td>\n      <td>0.29134</td>\n      <td>3625.7</td>\n      <td>4506.2</td>\n      <td>9.2109</td>\n      <td>26.889</td>\n      <td>42.291</td>\n      <td>2700.6</td>\n      <td>...</td>\n      <td>21.750</td>\n      <td>42.762</td>\n      <td>42.645</td>\n      <td>51.055</td>\n      <td>48.589</td>\n      <td>40.933</td>\n      <td>19.360</td>\n      <td>0.076785</td>\n      <td>0.174940</td>\n      <td>TN</td>\n    </tr>\n    <tr>\n      <th>249997</th>\n      <td>0.0</td>\n      <td>500.0</td>\n      <td>498.0</td>\n      <td>0.29438</td>\n      <td>3600.2</td>\n      <td>4478.3</td>\n      <td>9.1957</td>\n      <td>26.820</td>\n      <td>42.448</td>\n      <td>2700.3</td>\n      <td>...</td>\n      <td>21.487</td>\n      <td>42.109</td>\n      <td>39.770</td>\n      <td>46.770</td>\n      <td>48.648</td>\n      <td>41.465</td>\n      <td>19.344</td>\n      <td>0.061994</td>\n      <td>0.174939</td>\n      <td>TN</td>\n    </tr>\n    <tr>\n      <th>249998</th>\n      <td>0.0</td>\n      <td>500.0</td>\n      <td>499.0</td>\n      <td>0.25269</td>\n      <td>3683.5</td>\n      <td>4486.4</td>\n      <td>9.2832</td>\n      <td>27.188</td>\n      <td>42.757</td>\n      <td>2697.4</td>\n      <td>...</td>\n      <td>21.392</td>\n      <td>39.334</td>\n      <td>42.274</td>\n      <td>43.623</td>\n      <td>48.797</td>\n      <td>39.835</td>\n      <td>18.512</td>\n      <td>0.078618</td>\n      <td>0.174939</td>\n      <td>TN</td>\n    </tr>\n    <tr>\n      <th>249999</th>\n      <td>0.0</td>\n      <td>500.0</td>\n      <td>500.0</td>\n      <td>0.25214</td>\n      <td>3648.2</td>\n      <td>4467.8</td>\n      <td>9.1344</td>\n      <td>26.886</td>\n      <td>42.534</td>\n      <td>2695.1</td>\n      <td>...</td>\n      <td>21.208</td>\n      <td>38.991</td>\n      <td>42.873</td>\n      <td>44.400</td>\n      <td>48.876</td>\n      <td>41.076</td>\n      <td>16.158</td>\n      <td>0.076033</td>\n      <td>0.174939</td>\n      <td>TN</td>\n    </tr>\n  </tbody>\n</table>\n<p>250000 rows × 58 columns</p>\n</div>"
     },
     "metadata": {},
     "execution_count": 18
    }
   ],
   "source": [
    "df1"
   ]
  },
  {
   "cell_type": "code",
   "execution_count": 19,
   "metadata": {},
   "outputs": [],
   "source": [
    "df1.to_csv(\"./data/case2.csv\", index=True)"
   ]
  },
  {
   "cell_type": "code",
   "execution_count": 49,
   "metadata": {
    "tags": []
   },
   "outputs": [
    {
     "output_type": "stream",
     "name": "stdout",
     "text": [
      "1\n"
     ]
    }
   ],
   "source": [
    "j = 0\n",
    "for i in df1.Threshold.unique():\n",
    "    if np.isnan(i):\n",
    "        j += 1\n",
    "print(j)"
   ]
  },
  {
   "cell_type": "code",
   "execution_count": 16,
   "metadata": {},
   "outputs": [],
   "source": [
    "df3 = df2.join(df1[\"pointType\"])"
   ]
  },
  {
   "cell_type": "code",
   "execution_count": 22,
   "metadata": {},
   "outputs": [
    {
     "output_type": "execute_result",
     "data": {
      "text/plain": [
       "2"
      ]
     },
     "metadata": {},
     "execution_count": 22
    }
   ],
   "source": [
    "len(df3.iloc[0].pointType)"
   ]
  },
  {
   "cell_type": "code",
   "execution_count": null,
   "metadata": {},
   "outputs": [],
   "source": []
  }
 ]
}